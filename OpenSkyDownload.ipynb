{
 "cells": [
  {
   "cell_type": "code",
   "execution_count": null,
   "id": "18bda868",
   "metadata": {},
   "outputs": [],
   "source": [
    "import traffic\n",
    "import pandas as pd\n",
    "import datetime\n",
    "import os\n",
    "import numpy as np\n",
    "from traffic import *"
   ]
  },
  {
   "cell_type": "code",
   "execution_count": null,
   "id": "889e7d8c",
   "metadata": {},
   "outputs": [],
   "source": [
    "# df dei 30 più importanti aeroporti d'europa\n",
    "# questo file csv me lo sono creato io \n",
    "airport_most_important = pd.read_csv('/Users/mirkopapadopoli/Desktop/Stage/30aeroporti.csv', delimiter = \";\")  "
   ]
  },
  {
   "cell_type": "markdown",
   "id": "10f610ee",
   "metadata": {},
   "source": [
    "# Ciclo per creare la lista di date"
   ]
  },
  {
   "cell_type": "code",
   "execution_count": null,
   "id": "7e987f61",
   "metadata": {},
   "outputs": [],
   "source": [
    "#creo il range di date OK \n",
    "start_date = datetime.date(2016, 8, 3)\n",
    "number_of_days = 2\n",
    "\n",
    "date_list = []\n",
    "for day in range(number_of_days):\n",
    "    a_date = (start_date + datetime.timedelta(days = day)).isoformat()\n",
    "    date_list.append(a_date)\n",
    "\n",
    "print(date_list)"
   ]
  },
  {
   "cell_type": "markdown",
   "id": "59e93b4e",
   "metadata": {},
   "source": [
    "# Ciclo per creare le cartelle dove salvare i dati"
   ]
  },
  {
   "cell_type": "code",
   "execution_count": null,
   "id": "2df589bb",
   "metadata": {},
   "outputs": [],
   "source": [
    "#creazione cartelle OK \n",
    "\n",
    "dir = '/Users/mirkopapadopoli/Desktop/Data/'\n",
    "\n",
    "for i in range(len(date_list)):\n",
    "    if not os.path.exists(dir + date_list[i]):\n",
    "        os.mkdir(dir + date_list[i])"
   ]
  },
  {
   "cell_type": "markdown",
   "id": "2bb2ec3f",
   "metadata": {},
   "source": [
    "# Estrazione Traiettorie"
   ]
  },
  {
   "cell_type": "code",
   "execution_count": null,
   "id": "3fa103ac",
   "metadata": {},
   "outputs": [],
   "source": [
    "def extract_trajectory(starts, airports):\n",
    "    try:\n",
    "        trajectory = opensky.history(\n",
    "            start = starts,\n",
    "            airport = airports\n",
    "        ).data\n",
    "        return trajectory\n",
    "    except AttributeError: \n",
    "        return 'Error'\n",
    "    "
   ]
  },
  {
   "cell_type": "code",
   "execution_count": null,
   "id": "c3ec8496",
   "metadata": {},
   "outputs": [],
   "source": [
    "#funzione che permette l'estrazione dei dati ottimizzata OK\n",
    "def extract_data2(date):\n",
    "    date_list = date\n",
    "    list_name_airport = list(airport_most_important.airport_name)\n",
    "    list_icao = list(airport_most_important.icao)\n",
    "\n",
    "    #for i in range(len(date_list)):\n",
    "    print('Data:', date_list)\n",
    "    for j in range(len(list_icao)):\n",
    "        print('Aeroporto:', list_icao[j])\n",
    "        x = extract_trajectory(date_list, list_icao[j])\n",
    "        if not isinstance(x, str):\n",
    "            list_name_airport[j] = x\n",
    "        \n",
    "        \n",
    "    return list_name_airport"
   ]
  },
  {
   "cell_type": "markdown",
   "id": "ec16ae8d",
   "metadata": {},
   "source": [
    "# Eliminazione Duplicati"
   ]
  },
  {
   "cell_type": "code",
   "execution_count": null,
   "id": "b8a8c7e5",
   "metadata": {},
   "outputs": [],
   "source": [
    "#funzione che mi permette di pulire i dati dai duplicati OK \n",
    "def clean_data(list_name_airport):\n",
    "    not_empty_airports = []\n",
    "    name_airport_with_data = []\n",
    "    for i in range(len(airport_most_important)):\n",
    "        if not isinstance(list_name_airport[i], str):\n",
    "            not_empty_airports.append(list_name_airport[i])\n",
    "            name_airport_with_data.append(airport_most_important.icao[i])\n",
    "    try:\n",
    "        df_total = pd.concat(not_empty_airports)\n",
    "        #df_total.drop_duplicates(keep=False)\n",
    "        #df_total_temp = df_total.copy()\n",
    "        #df_total_temp = df_total_temp.drop_duplicates(keep = False)\n",
    "        not_empty_airports.insert(len(not_empty_airports), df_total.drop_duplicates(keep=False))\n",
    "    except: \n",
    "        print('Empty')\n",
    "        not_empty_airports = []\n",
    "        name_airport_with_data = []\n",
    "\n",
    "    return name_airport_with_data, not_empty_airports"
   ]
  },
  {
   "cell_type": "markdown",
   "id": "7fe04ad9",
   "metadata": {},
   "source": [
    "# Save Data"
   ]
  },
  {
   "cell_type": "code",
   "execution_count": null,
   "id": "3cba141a",
   "metadata": {},
   "outputs": [],
   "source": [
    "#funzione che mi permette di salvare i dati OK\n",
    "def save_data(not_empty_airports, name_airport_with_data, x):\n",
    "    \n",
    "    if (len(not_empty_airports)==0):\n",
    "        return\n",
    "    \n",
    "    ris_1g_list = []\n",
    "    temp_airport = not_empty_airports.copy()\n",
    "\n",
    "    for i in range(len(not_empty_airports)-1):\n",
    "        ris_1g_list.insert(len(ris_1g_list), result_creator(temp_airport))\n",
    "        ris_1g_list[i].to_csv('/Users/mirkopapadopoli/Desktop/Data/'+str(date_list[x])+'/'+str(name_airport_with_data[i])+'-'+str(date_list[x])+'.csv')\n",
    "        temp_airport = temp_airport[1:] + [temp_airport[0]]"
   ]
  },
  {
   "cell_type": "code",
   "execution_count": null,
   "id": "a20db91b",
   "metadata": {},
   "outputs": [],
   "source": [
    "#funzione che mi permette di switchare il df OK \n",
    "def result_creator(list_airport):\n",
    "    dataframe = pd.concat(list_airport[1:]).drop_duplicates(keep = False)\n",
    "    return dataframe"
   ]
  },
  {
   "cell_type": "markdown",
   "id": "e95dc9b8",
   "metadata": {},
   "source": [
    "# Funzione principale che richiama le sotto-funzioni"
   ]
  },
  {
   "cell_type": "code",
   "execution_count": null,
   "id": "e25e5039",
   "metadata": {},
   "outputs": [],
   "source": [
    "#run all\n",
    "#x = indice per saltare alla cartella successiva\n",
    "x = 0\n",
    "for i in range(len(date_list)):\n",
    "    list_name_airport = extract_data2(date_list[i])\n",
    "    name_airport_with_data, not_empty_airports = clean_data(list_name_airport)\n",
    "    save_data(not_empty_airports,name_airport_with_data,x)\n",
    "    x +=1 "
   ]
  },
  {
   "cell_type": "code",
   "execution_count": null,
   "id": "43907186",
   "metadata": {},
   "outputs": [],
   "source": []
  },
  {
   "cell_type": "code",
   "execution_count": null,
   "id": "0e809357",
   "metadata": {},
   "outputs": [],
   "source": []
  },
  {
   "cell_type": "code",
   "execution_count": null,
   "id": "439f620a",
   "metadata": {},
   "outputs": [],
   "source": []
  }
 ],
 "metadata": {
  "kernelspec": {
   "display_name": "Python 3 (ipykernel)",
   "language": "python",
   "name": "python3"
  },
  "language_info": {
   "codemirror_mode": {
    "name": "ipython",
    "version": 3
   },
   "file_extension": ".py",
   "mimetype": "text/x-python",
   "name": "python",
   "nbconvert_exporter": "python",
   "pygments_lexer": "ipython3",
   "version": "3.9.13"
  }
 },
 "nbformat": 4,
 "nbformat_minor": 5
}
