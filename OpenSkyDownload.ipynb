{
 "cells": [
  {
   "cell_type": "code",
   "execution_count": null,
   "id": "eb4a20d6",
   "metadata": {},
   "outputs": [],
   "source": [
    "#import delle librerie\n",
    "import traffic\n",
    "import pandas as pd\n",
    "import datetime\n",
    "import os\n",
    "import numpy as np\n",
    "from traffic import *"
   ]
  },
  {
   "cell_type": "code",
   "execution_count": null,
   "id": "2d5b4e97",
   "metadata": {},
   "outputs": [],
   "source": [
    "# dataframe dei 30 più importanti aeroporti d'europa\n",
    "# impostare il path in base a dove viene salvato il file csv \n",
    "airport_most_important = pd.read_csv('/Users/mirkopapadopoli/Desktop/Stage/30aeroporti.csv', delimiter = \";\")  "
   ]
  },
  {
   "cell_type": "markdown",
   "id": "a6f21875",
   "metadata": {},
   "source": [
    "# Ciclo per creare la lista di date"
   ]
  },
  {
   "cell_type": "code",
   "execution_count": null,
   "id": "7064c020",
   "metadata": {},
   "outputs": [],
   "source": [
    "#creo il range di date utilizzate dal ciclo principale che richiama tutte le funzioni \n",
    "start_date = datetime.date(2016, 8, 3)\n",
    "number_of_days = 2\n",
    "\n",
    "date_list = []\n",
    "for day in range(number_of_days):\n",
    "    a_date = (start_date + datetime.timedelta(days = day)).isoformat()\n",
    "    date_list.append(a_date)\n",
    "\n",
    "print(date_list)"
   ]
  },
  {
   "cell_type": "markdown",
   "id": "64872e67",
   "metadata": {},
   "source": [
    "# Ciclo per creare le cartelle dove salvare i dati"
   ]
  },
  {
   "cell_type": "code",
   "execution_count": null,
   "id": "38abf3c0",
   "metadata": {},
   "outputs": [],
   "source": [
    "#creazione cartelle\n",
    "# modificare il percorso (dir) in base a dove si vuole che vengano create le cartelle\n",
    "\n",
    "dir = '/Users/mirkopapadopoli/Desktop/Data/'\n",
    "\n",
    "for i in range(len(date_list)):\n",
    "    if not os.path.exists(dir + date_list[i]):\n",
    "        os.mkdir(dir + date_list[i])"
   ]
  },
  {
   "cell_type": "markdown",
   "id": "091a64f4",
   "metadata": {},
   "source": [
    "# Estrazione Traiettorie"
   ]
  },
  {
   "cell_type": "code",
   "execution_count": null,
   "id": "08d3da5d",
   "metadata": {},
   "outputs": [],
   "source": [
    "#funzione che estrae i dati da OpenSky\n",
    "def extract_trajectory(starts, airports):\n",
    "    try:\n",
    "        trajectory = opensky.history(\n",
    "            start = starts,\n",
    "            airport = airports\n",
    "        ).data\n",
    "        return trajectory\n",
    "    except AttributeError: \n",
    "        return 'Error'\n",
    "    "
   ]
  },
  {
   "cell_type": "code",
   "execution_count": null,
   "id": "9d02dfe5",
   "metadata": {},
   "outputs": [],
   "source": [
    "#funzione che permette l'estrazione dei dati ottimizzata\n",
    "def extract_data2(date):\n",
    "    date_list = date\n",
    "    list_name_airport = list(airport_most_important.airport_name)\n",
    "    list_icao = list(airport_most_important.icao)\n",
    "\n",
    "    print('Data:', date_list)\n",
    "    for j in range(len(list_icao)):\n",
    "        print('Aeroporto:', list_icao[j])\n",
    "        x = extract_trajectory(date_list, list_icao[j])\n",
    "        if not isinstance(x, str):\n",
    "            list_name_airport[j] = x\n",
    "        \n",
    "        \n",
    "    return list_name_airport"
   ]
  },
  {
   "cell_type": "markdown",
   "id": "1397a883",
   "metadata": {},
   "source": [
    "# Eliminazione Duplicati"
   ]
  },
  {
   "cell_type": "code",
   "execution_count": null,
   "id": "8a6a7575",
   "metadata": {},
   "outputs": [],
   "source": [
    "#funzione che mi permette di pulire i dati dai duplicati\n",
    "def clean_data(list_name_airport):\n",
    "    not_empty_airports = []\n",
    "    name_airport_with_data = []\n",
    "    for i in range(len(airport_most_important)):\n",
    "        if not isinstance(list_name_airport[i], str):\n",
    "            not_empty_airports.append(list_name_airport[i])\n",
    "            name_airport_with_data.append(airport_most_important.icao[i])\n",
    "    try:\n",
    "        df_total = pd.concat(not_empty_airports)\n",
    "        not_empty_airports.insert(len(not_empty_airports), df_total.drop_duplicates(keep=False))\n",
    "    except: \n",
    "        print('Empty')\n",
    "        not_empty_airports = []\n",
    "        name_airport_with_data = []\n",
    "\n",
    "    return name_airport_with_data, not_empty_airports"
   ]
  },
  {
   "cell_type": "markdown",
   "id": "e50dc981",
   "metadata": {},
   "source": [
    "# Save Data"
   ]
  },
  {
   "cell_type": "code",
   "execution_count": null,
   "id": "a7c8a788",
   "metadata": {},
   "outputs": [],
   "source": [
    "#funzione che mi permette di salvare i dati \n",
    "# modificare il percorso in base a quello scelto in precedenza\n",
    "def save_data(not_empty_airports, name_airport_with_data, x):\n",
    "    \n",
    "    if (len(not_empty_airports)==0):\n",
    "        return\n",
    "    \n",
    "    ris_1g_list = []\n",
    "    temp_airport = not_empty_airports.copy()\n",
    "\n",
    "    for i in range(len(not_empty_airports)-1):\n",
    "        ris_1g_list.insert(len(ris_1g_list), result_creator(temp_airport))\n",
    "        ris_1g_list[i].to_csv('/Users/mirkopapadopoli/Desktop/Data/'+str(date_list[x])+'/'+str(name_airport_with_data[i])+'-'+str(date_list[x])+'.csv')\n",
    "        temp_airport = temp_airport[1:] + [temp_airport[0]]"
   ]
  },
  {
   "cell_type": "code",
   "execution_count": null,
   "id": "8193795e",
   "metadata": {},
   "outputs": [],
   "source": [
    "#funzione che mi permette di switchare il df\n",
    "def result_creator(list_airport):\n",
    "    dataframe = pd.concat(list_airport[1:]).drop_duplicates(keep = False)\n",
    "    return dataframe"
   ]
  },
  {
   "cell_type": "markdown",
   "id": "2f4405ee",
   "metadata": {},
   "source": [
    "# Funzione principale che richiama le sotto-funzioni"
   ]
  },
  {
   "cell_type": "code",
   "execution_count": null,
   "id": "eff50014",
   "metadata": {},
   "outputs": [],
   "source": [
    "#funzione che permette di far girare tutto lo script sulla base dei giorni dati in input\n",
    "#x = indice per saltare alla cartella successiva\n",
    "x = 0\n",
    "for i in range(len(date_list)):\n",
    "    list_name_airport = extract_data2(date_list[i])\n",
    "    name_airport_with_data, not_empty_airports = clean_data(list_name_airport)\n",
    "    save_data(not_empty_airports,name_airport_with_data,x)\n",
    "    x +=1 "
   ]
  },
  {
   "cell_type": "code",
   "execution_count": null,
   "id": "19b9f2cb",
   "metadata": {},
   "outputs": [],
   "source": []
  },
  {
   "cell_type": "code",
   "execution_count": null,
   "id": "b2ea0160",
   "metadata": {},
   "outputs": [],
   "source": []
  },
  {
   "cell_type": "code",
   "execution_count": null,
   "id": "5b67a415",
   "metadata": {},
   "outputs": [],
   "source": []
  }
 ],
 "metadata": {
  "kernelspec": {
   "display_name": "Python 3 (ipykernel)",
   "language": "python",
   "name": "python3"
  },
  "language_info": {
   "codemirror_mode": {
    "name": "ipython",
    "version": 3
   },
   "file_extension": ".py",
   "mimetype": "text/x-python",
   "name": "python",
   "nbconvert_exporter": "python",
   "pygments_lexer": "ipython3",
   "version": "3.9.13"
  }
 },
 "nbformat": 4,
 "nbformat_minor": 5
}
